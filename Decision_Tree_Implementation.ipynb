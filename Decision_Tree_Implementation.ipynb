{
 "cells": [
  {
   "cell_type": "markdown",
   "id": "559c641f",
   "metadata": {},
   "source": [
    "## Question : "
   ]
  },
  {
   "cell_type": "raw",
   "id": "5ab7ff09",
   "metadata": {},
   "source": [
    "For Iris dataset your task is to print steps for every split in the decision tree.\n",
    "\n",
    "Your Project is divided in 2 parts -\n",
    "1. Print the Decision tree steps as specified in the example below. This is of 80 marks in total.\n",
    "2. Decision Tree Implementation:  Building actual decision tree for the dataset and then printing it. This is of 20 marks.\n",
    "\n",
    "Note: You can submit multiple times before deadline/evaluation. Your final submission will be evaluated. No submission is allowed after the project is evaluated by TA.\n",
    "\n",
    "Dataset: Iris dataset.\n",
    "\n",
    "Implementation: Consider the decision tree for OR below:\n",
    "Alt text\n",
    "\n",
    "Expected Output:\n",
    "Level  0\n",
    "Count of  0(False)  =  1\n",
    "Count of  1(True)  =  3\n",
    "Current Entropy  is =  0.811278124459\n",
    "Splitting on feature  X1  with gain ratio  0.311278124459\n",
    "\n",
    "Level  1\n",
    "Count of  0  =  1\n",
    "Count of  1  =  1\n",
    "Current Entropy is =  1.0\n",
    "Splitting on feature  X2  with gain ratio  1.0\n",
    "\n",
    "Level  2\n",
    "Count of  0  =  1\n",
    "Current Entropy  is =  0.0\n",
    "Reached leaf Node\n",
    "\n",
    "Level  2\n",
    "Count of  1  =  1\n",
    "Current Entropy  is =  0.0\n",
    "Reached leaf Node\n",
    "\n",
    "Level  1\n",
    "Count of  1  =  2\n",
    "Current Entropy  is =  0.0\n",
    "Reached leaf Node"
   ]
  },
  {
   "cell_type": "markdown",
   "id": "96256177",
   "metadata": {},
   "source": [
    "# Decision Tree Implementation\n",
    "* This code works only when:-\n",
    "  * The features of dataset are discrete\n",
    "  * The last column of dataset must be the label or class (output)\n",
    "  * Missing data is not allowed"
   ]
  },
  {
   "cell_type": "code",
   "execution_count": 1,
   "id": "01b2444e",
   "metadata": {},
   "outputs": [],
   "source": [
    "# Import Necessary Libraries\n",
    "\n",
    "import numpy as np\n",
    "import pandas as pd\n",
    "from sklearn import datasets\n",
    "from sklearn.model_selection import train_test_split\n",
    "from sklearn.tree import DecisionTreeClassifier\n",
    "from sklearn.tree import export_graphviz\n",
    "from sklearn.metrics import confusion_matrix\n",
    "import pydotplus\n",
    "from IPython.display import Image\n",
    "import math\n",
    "import operator"
   ]
  },
  {
   "cell_type": "code",
   "execution_count": 2,
   "id": "ac32dea8",
   "metadata": {},
   "outputs": [],
   "source": [
    "#Load Dataset\n",
    "iris=datasets.load_iris()"
   ]
  },
  {
   "cell_type": "code",
   "execution_count": 3,
   "id": "3cc871ea",
   "metadata": {},
   "outputs": [
    {
     "data": {
      "text/html": [
       "<div>\n",
       "<style scoped>\n",
       "    .dataframe tbody tr th:only-of-type {\n",
       "        vertical-align: middle;\n",
       "    }\n",
       "\n",
       "    .dataframe tbody tr th {\n",
       "        vertical-align: top;\n",
       "    }\n",
       "\n",
       "    .dataframe thead th {\n",
       "        text-align: right;\n",
       "    }\n",
       "</style>\n",
       "<table border=\"1\" class=\"dataframe\">\n",
       "  <thead>\n",
       "    <tr style=\"text-align: right;\">\n",
       "      <th></th>\n",
       "      <th>sl</th>\n",
       "      <th>sw</th>\n",
       "      <th>pl</th>\n",
       "      <th>pw</th>\n",
       "    </tr>\n",
       "  </thead>\n",
       "  <tbody>\n",
       "    <tr>\n",
       "      <th>0</th>\n",
       "      <td>5.1</td>\n",
       "      <td>3.5</td>\n",
       "      <td>1.4</td>\n",
       "      <td>0.2</td>\n",
       "    </tr>\n",
       "    <tr>\n",
       "      <th>1</th>\n",
       "      <td>4.9</td>\n",
       "      <td>3.0</td>\n",
       "      <td>1.4</td>\n",
       "      <td>0.2</td>\n",
       "    </tr>\n",
       "    <tr>\n",
       "      <th>2</th>\n",
       "      <td>4.7</td>\n",
       "      <td>3.2</td>\n",
       "      <td>1.3</td>\n",
       "      <td>0.2</td>\n",
       "    </tr>\n",
       "    <tr>\n",
       "      <th>3</th>\n",
       "      <td>4.6</td>\n",
       "      <td>3.1</td>\n",
       "      <td>1.5</td>\n",
       "      <td>0.2</td>\n",
       "    </tr>\n",
       "    <tr>\n",
       "      <th>4</th>\n",
       "      <td>5.0</td>\n",
       "      <td>3.6</td>\n",
       "      <td>1.4</td>\n",
       "      <td>0.2</td>\n",
       "    </tr>\n",
       "  </tbody>\n",
       "</table>\n",
       "</div>"
      ],
      "text/plain": [
       "    sl   sw   pl   pw\n",
       "0  5.1  3.5  1.4  0.2\n",
       "1  4.9  3.0  1.4  0.2\n",
       "2  4.7  3.2  1.3  0.2\n",
       "3  4.6  3.1  1.5  0.2\n",
       "4  5.0  3.6  1.4  0.2"
      ]
     },
     "execution_count": 3,
     "metadata": {},
     "output_type": "execute_result"
    }
   ],
   "source": [
    "# Column names are feature_names of the iris_dataset\n",
    "df=pd.DataFrame(iris.data,columns=['sl','sw','pl','pw'])\n",
    "df.head()"
   ]
  },
  {
   "cell_type": "code",
   "execution_count": 4,
   "id": "d3c7f24f",
   "metadata": {},
   "outputs": [],
   "source": [
    "# here i have converted continuous data to discrete values of 1 ,2 ,3, 4 in each column\n",
    "#if MIN_Value <=val < (m + Mean_Value) / 2 then it is assigned label 1\n",
    "#if (m + Mean_Value) <=val < Mean_Value then it is assigned label 2\n",
    "#if (Mean_Value) <=val < (Mean_Value + MAX_Value)/2 then it is assigned label 3\n",
    "#if (Mean_Value + MAX_Value)/2 <=val <= MAX_Value  then it is assigned label 4\n",
    "\n",
    "#Define a function label to return labels based on the values and boundaries\n",
    "def label(val, *boundaries):\n",
    "    if (val < boundaries[0]):\n",
    "        return 1\n",
    "    elif (val < boundaries[1]):\n",
    "        return 2\n",
    "    elif (val < boundaries[2]):\n",
    "        return 3\n",
    "    else:\n",
    "        return 4\n",
    "\n",
    "#Function to convert a continuous data into labelled data\n",
    "#There are 4 lables  - 1,2,3,4\n",
    "def toLabel(df, old_feature_name):\n",
    "    second = df[old_feature_name].mean()\n",
    "    minimum = df[old_feature_name].min()\n",
    "    first = (minimum + second)/2\n",
    "    maximum = df[old_feature_name].max()\n",
    "    third = (maximum + second)/2\n",
    "    return df[old_feature_name].apply(label, args= (first, second, third))"
   ]
  },
  {
   "cell_type": "code",
   "execution_count": 5,
   "id": "77ade021",
   "metadata": {},
   "outputs": [
    {
     "data": {
      "text/html": [
       "<div>\n",
       "<style scoped>\n",
       "    .dataframe tbody tr th:only-of-type {\n",
       "        vertical-align: middle;\n",
       "    }\n",
       "\n",
       "    .dataframe tbody tr th {\n",
       "        vertical-align: top;\n",
       "    }\n",
       "\n",
       "    .dataframe thead th {\n",
       "        text-align: right;\n",
       "    }\n",
       "</style>\n",
       "<table border=\"1\" class=\"dataframe\">\n",
       "  <thead>\n",
       "    <tr style=\"text-align: right;\">\n",
       "      <th></th>\n",
       "      <th>sl</th>\n",
       "      <th>sw</th>\n",
       "      <th>pl</th>\n",
       "      <th>pw</th>\n",
       "      <th>sl_labeled</th>\n",
       "      <th>sw_labeled</th>\n",
       "      <th>pl_labeled</th>\n",
       "      <th>pw_labeled</th>\n",
       "    </tr>\n",
       "  </thead>\n",
       "  <tbody>\n",
       "    <tr>\n",
       "      <th>0</th>\n",
       "      <td>5.1</td>\n",
       "      <td>3.5</td>\n",
       "      <td>1.4</td>\n",
       "      <td>0.2</td>\n",
       "      <td>2</td>\n",
       "      <td>3</td>\n",
       "      <td>1</td>\n",
       "      <td>1</td>\n",
       "    </tr>\n",
       "    <tr>\n",
       "      <th>1</th>\n",
       "      <td>4.9</td>\n",
       "      <td>3.0</td>\n",
       "      <td>1.4</td>\n",
       "      <td>0.2</td>\n",
       "      <td>1</td>\n",
       "      <td>2</td>\n",
       "      <td>1</td>\n",
       "      <td>1</td>\n",
       "    </tr>\n",
       "    <tr>\n",
       "      <th>2</th>\n",
       "      <td>4.7</td>\n",
       "      <td>3.2</td>\n",
       "      <td>1.3</td>\n",
       "      <td>0.2</td>\n",
       "      <td>1</td>\n",
       "      <td>3</td>\n",
       "      <td>1</td>\n",
       "      <td>1</td>\n",
       "    </tr>\n",
       "    <tr>\n",
       "      <th>3</th>\n",
       "      <td>4.6</td>\n",
       "      <td>3.1</td>\n",
       "      <td>1.5</td>\n",
       "      <td>0.2</td>\n",
       "      <td>1</td>\n",
       "      <td>3</td>\n",
       "      <td>1</td>\n",
       "      <td>1</td>\n",
       "    </tr>\n",
       "    <tr>\n",
       "      <th>4</th>\n",
       "      <td>5.0</td>\n",
       "      <td>3.6</td>\n",
       "      <td>1.4</td>\n",
       "      <td>0.2</td>\n",
       "      <td>1</td>\n",
       "      <td>3</td>\n",
       "      <td>1</td>\n",
       "      <td>1</td>\n",
       "    </tr>\n",
       "  </tbody>\n",
       "</table>\n",
       "</div>"
      ],
      "text/plain": [
       "    sl   sw   pl   pw  sl_labeled  sw_labeled  pl_labeled  pw_labeled\n",
       "0  5.1  3.5  1.4  0.2           2           3           1           1\n",
       "1  4.9  3.0  1.4  0.2           1           2           1           1\n",
       "2  4.7  3.2  1.3  0.2           1           3           1           1\n",
       "3  4.6  3.1  1.5  0.2           1           3           1           1\n",
       "4  5.0  3.6  1.4  0.2           1           3           1           1"
      ]
     },
     "execution_count": 5,
     "metadata": {},
     "output_type": "execute_result"
    }
   ],
   "source": [
    "#Convert all columns to labelled data\n",
    "df['sl_labeled'] = toLabel(df, 'sl')\n",
    "df['sw_labeled'] = toLabel(df, 'sw')\n",
    "df['pl_labeled'] = toLabel(df, 'pl')\n",
    "df['pw_labeled'] = toLabel(df, 'pw')\n",
    "df.head()"
   ]
  },
  {
   "cell_type": "code",
   "execution_count": 6,
   "id": "b8b36af2",
   "metadata": {},
   "outputs": [
    {
     "data": {
      "text/html": [
       "<div>\n",
       "<style scoped>\n",
       "    .dataframe tbody tr th:only-of-type {\n",
       "        vertical-align: middle;\n",
       "    }\n",
       "\n",
       "    .dataframe tbody tr th {\n",
       "        vertical-align: top;\n",
       "    }\n",
       "\n",
       "    .dataframe thead th {\n",
       "        text-align: right;\n",
       "    }\n",
       "</style>\n",
       "<table border=\"1\" class=\"dataframe\">\n",
       "  <thead>\n",
       "    <tr style=\"text-align: right;\">\n",
       "      <th></th>\n",
       "      <th>sl_labeled</th>\n",
       "      <th>sw_labeled</th>\n",
       "      <th>pl_labeled</th>\n",
       "      <th>pw_labeled</th>\n",
       "    </tr>\n",
       "  </thead>\n",
       "  <tbody>\n",
       "    <tr>\n",
       "      <th>0</th>\n",
       "      <td>2</td>\n",
       "      <td>3</td>\n",
       "      <td>1</td>\n",
       "      <td>1</td>\n",
       "    </tr>\n",
       "    <tr>\n",
       "      <th>1</th>\n",
       "      <td>1</td>\n",
       "      <td>2</td>\n",
       "      <td>1</td>\n",
       "      <td>1</td>\n",
       "    </tr>\n",
       "    <tr>\n",
       "      <th>2</th>\n",
       "      <td>1</td>\n",
       "      <td>3</td>\n",
       "      <td>1</td>\n",
       "      <td>1</td>\n",
       "    </tr>\n",
       "    <tr>\n",
       "      <th>3</th>\n",
       "      <td>1</td>\n",
       "      <td>3</td>\n",
       "      <td>1</td>\n",
       "      <td>1</td>\n",
       "    </tr>\n",
       "    <tr>\n",
       "      <th>4</th>\n",
       "      <td>1</td>\n",
       "      <td>3</td>\n",
       "      <td>1</td>\n",
       "      <td>1</td>\n",
       "    </tr>\n",
       "  </tbody>\n",
       "</table>\n",
       "</div>"
      ],
      "text/plain": [
       "   sl_labeled  sw_labeled  pl_labeled  pw_labeled\n",
       "0           2           3           1           1\n",
       "1           1           2           1           1\n",
       "2           1           3           1           1\n",
       "3           1           3           1           1\n",
       "4           1           3           1           1"
      ]
     },
     "execution_count": 6,
     "metadata": {},
     "output_type": "execute_result"
    }
   ],
   "source": [
    "#drop discrete value columns\n",
    "df.drop(['sl','sw','pl','pw'],axis=1,inplace=True)\n",
    "df.head()"
   ]
  },
  {
   "cell_type": "code",
   "execution_count": 7,
   "id": "06c59224",
   "metadata": {},
   "outputs": [
    {
     "data": {
      "text/plain": [
       "{1, 2, 3, 4}"
      ]
     },
     "execution_count": 7,
     "metadata": {},
     "output_type": "execute_result"
    }
   ],
   "source": [
    "set(df['sl_labeled'])"
   ]
  },
  {
   "cell_type": "markdown",
   "id": "971ce51a",
   "metadata": {},
   "source": [
    "# Finding entropy"
   ]
  },
  {
   "cell_type": "code",
   "execution_count": 8,
   "id": "2da3b447",
   "metadata": {},
   "outputs": [],
   "source": [
    "def entropy(y):\n",
    "    total = len(y)\n",
    "    entropy = 0\n",
    "    \n",
    "    for i in set(y['feature_type']):\n",
    "        count_of_class = len(y[y['feature_type'] == i])  # counting occurence of 1 label in Y data \n",
    "        prob = count_of_class/total     # finding probability\n",
    "        entropy += prob * math.log(prob, 2)  # adding it to total entropy\n",
    "    entropy = -entropy\n",
    "    return entropy"
   ]
  },
  {
   "cell_type": "markdown",
   "id": "bba582ea",
   "metadata": {},
   "source": [
    "## Finding Information Gain"
   ]
  },
  {
   "cell_type": "code",
   "execution_count": 9,
   "id": "d0993930",
   "metadata": {},
   "outputs": [],
   "source": [
    "def find_info_gain(x, y, feature) :\n",
    "    \n",
    "    parent_entropy = entropy(y)  # calculating entropy of Y \n",
    "    total_ele = len(y)   # to get the count of number of labels present in Y data\n",
    "    weighted_entropy = 0  # initiating weighted average = 0 \n",
    "    \n",
    "    val = set(x[feature])  # taking in account each unique label\n",
    "    \n",
    "    # iterating to get weighted entropies of each child and add them \n",
    "    for i in val :\n",
    "        child = y[(x[feature] == i)]\n",
    "        i_entropy = entropy(child)\n",
    "        \n",
    "        weighted_entropy += (i_entropy * len(child)) / total_ele\n",
    "        \n",
    "    #finding info gain\n",
    "    info_gain = parent_entropy - weighted_entropy  \n",
    "    return info_gain"
   ]
  },
  {
   "cell_type": "markdown",
   "id": "4b5c477a",
   "metadata": {},
   "source": [
    "## Splitting Info. Function"
   ]
  },
  {
   "cell_type": "code",
   "execution_count": 10,
   "id": "a53f2330",
   "metadata": {},
   "outputs": [],
   "source": [
    "# finding split info these two will help us in calculating gain ratio \n",
    "def split_information(x, y, feature) :\n",
    "    total_ele = len(y)\n",
    "    weighted_avg = 0\n",
    "    val = set(x[feature]) # unique values in each feature\n",
    "    \n",
    "    for i in val : # taking 1 child at a time \n",
    "        \n",
    "        child = y[x[feature] == i] # taking values of Y where feature is i \n",
    "                \n",
    "        weighted_avg += (len(child) / total_ele) * math.log((len(child) / total_ele), 2) ## calculating weighted average here\n",
    "        \n",
    "    return -1 * weighted_avg"
   ]
  },
  {
   "cell_type": "markdown",
   "id": "95c4a270",
   "metadata": {},
   "source": [
    "## Best feature and maximum Gain"
   ]
  },
  {
   "cell_type": "code",
   "execution_count": 11,
   "id": "867cae38",
   "metadata": {},
   "outputs": [],
   "source": [
    "def find_best_feature(x, y , features) :\n",
    "    best_feature = ''  # initiating best_feature as \" \"\n",
    "    max_gain = -1  # initiating max_gain as -1\n",
    "    \n",
    "    # traversing all features\n",
    "    for i in features :\n",
    "        \n",
    "        # finding split info and info_gain by calling these functions\n",
    "        split_info = split_information(x, y, i)\n",
    "        info_gain = find_info_gain(x, y, i)\n",
    "        \n",
    "        if split_info != 0 :\n",
    "            gain_ratio = info_gain / split_info\n",
    "            \n",
    "        else :\n",
    "            gain_ratio = -1\n",
    "        \n",
    "        # getting best feature and best gain ratio\n",
    "        if gain_ratio > max_gain :\n",
    "            best_feature = i\n",
    "            max_gain = gain_ratio\n",
    "            \n",
    "    return best_feature, max_gain"
   ]
  },
  {
   "cell_type": "markdown",
   "id": "ddca4761",
   "metadata": {},
   "source": [
    "## Main Function"
   ]
  },
  {
   "cell_type": "code",
   "execution_count": 12,
   "id": "73ca9c67",
   "metadata": {},
   "outputs": [],
   "source": [
    "def D_T(X,Y,features,level):     # this function is base function for Decision Tree \n",
    "    classes=set(Y['feature_type'])               # take all the unique labels present in Y \n",
    "    \n",
    "    # now we will see all the cases and find out whether we can split our tree or not and whether the node is leaf or not \n",
    "    # case 1 \n",
    "    if (len(classes) == 1):     # see if the length of classes is 1 or not \n",
    "        \n",
    "            \n",
    "        print(\"Level \",level)   # now we will print the current level as we don't have further classes we've reached the leaf node \n",
    "        current_class = list(classes)[0]    # current class will be our class at 0th position (although length is 1 but we are doing this to select the class) \n",
    "        \n",
    "        print(\"Count of \",current_class,\" = \",len(Y))     # now we are printing the class and its count \n",
    "        print(\"Current Entropy is = 0.0\")                 # Entropy is 0 as class will be pure and hence no randomness \n",
    "        print(\"Reached leaf Node\")                        # we have only 1 class so we are at leaf node  \n",
    "        print(\"Output Class Name =\", current_class)\n",
    "        print()\n",
    "        return\n",
    "   \n",
    "    # case 2\n",
    "    elif len(features)==0:                                 # checking if the count of features is 0 or not                           \n",
    "        print(\"Level  \",level)                             # if feature is 0 that means we can't split further so we are just printing the level \n",
    "        \n",
    "        #finding count of each output class\n",
    "        for current_class in classes:\n",
    "            count_of_current_class = (Y['feature_type'] == current_class).sum() \n",
    "            print(\"Count of \",current_class,\" = \",count_of_current_class) \n",
    "            \n",
    "        #printing as we did in above case and it can be understood easily what we are doing \n",
    "        entropy_current = entropy(Y)\n",
    "        \n",
    "        print(\"Current Entropy is = \",entropy_current)\n",
    "        print(\"No more features left\")\n",
    "        print(\"Reached leaf Node\")\n",
    "        print(\"Output Class Name =\", current_class)\n",
    "        print()\n",
    "        return\n",
    "    \n",
    "    # case 3 when we don't have a leaf node and feature count is not 0 and count of classes is not 1 \n",
    "    else:\n",
    "        print(\"Level \",level)        # printing the current level \n",
    "        \n",
    "        max_count = 0\n",
    "        for i in classes:            # iterating over classes that is labels in Y \n",
    "            j = (Y['feature_type']==i).sum()         # taking sum of all the ith label in Y data that is calculating its count (in Y )\n",
    "            print(\"Count of \",i,\" = \",j)       # printing the class and its count \n",
    "            \n",
    "            if j >= max_count :\n",
    "                max_count = j\n",
    "                output_class  = i\n",
    "                \n",
    "        #entropy of Current Node\n",
    "        print(\"Current Entropy is =\",entropy(Y))\n",
    "        \n",
    "        #getting best feature to split and its gain ratio\n",
    "        best_feature,gain_ratio = find_best_feature(X,Y,features)\n",
    "        print(\"Splitting on feature \",best_feature,\"with gain ratio :\",gain_ratio)\n",
    "        print(\"Output Class Name =\", output_class)\n",
    "        print()\n",
    "        \n",
    "        #splitting current node on all different values the best feature can have and recursively calling DT on each split\n",
    "        diff_val_of_best_feat = set(X[best_feature]) # get different values of the BEST Feature in current data\n",
    "        \n",
    "        #traverse each feature value , split on each \n",
    "        for current in diff_val_of_best_feat:\n",
    "            \n",
    "            x=X[(X[best_feature] == current)]\n",
    "            y=Y[(X[best_feature] == current)]\n",
    "\n",
    "            # also we are deleting features when a split has been called on it \n",
    "            #recursion\n",
    "            remaining_features = features - {best_feature}\n",
    "            \n",
    "            D_T(x,y,remaining_features,level+1)\n",
    "        return"
   ]
  },
  {
   "cell_type": "code",
   "execution_count": 13,
   "id": "9f658553",
   "metadata": {},
   "outputs": [
    {
     "name": "stdout",
     "output_type": "stream",
     "text": [
      "Level  0\n",
      "Count of  versicolor  =  50\n",
      "Count of  setosa  =  50\n",
      "Count of  virginica  =  50\n",
      "Current Entropy is = 1.584962500721156\n",
      "Splitting on feature  pw_labeled with gain ratio : 0.699638203622209\n",
      "Output Class Name = virginica\n",
      "\n",
      "Level  1\n",
      "Count of  setosa  =  50\n",
      "Current Entropy is = 0.0\n",
      "Reached leaf Node\n",
      "Output Class Name = setosa\n",
      "\n",
      "Level  1\n",
      "Count of  versicolor  =  10\n",
      "Current Entropy is = 0.0\n",
      "Reached leaf Node\n",
      "Output Class Name = versicolor\n",
      "\n",
      "Level  1\n",
      "Count of  versicolor  =  40\n",
      "Count of  virginica  =  16\n",
      "Current Entropy is = 0.863120568566631\n",
      "Splitting on feature  pl_labeled with gain ratio : 0.4334099495621066\n",
      "Output Class Name = versicolor\n",
      "\n",
      "Level  2\n",
      "Count of  versicolor  =  1\n",
      "Current Entropy is = 0.0\n",
      "Reached leaf Node\n",
      "Output Class Name = versicolor\n",
      "\n",
      "Level  2\n",
      "Count of  versicolor  =  39\n",
      "Count of  virginica  =  8\n",
      "Current Entropy is = 0.6581912658132185\n",
      "Splitting on feature  sl_labeled with gain ratio : 0.12674503775809332\n",
      "Output Class Name = versicolor\n",
      "\n",
      "Level  3\n",
      "Count of  virginica  =  1\n",
      "Current Entropy is = 0.0\n",
      "Reached leaf Node\n",
      "Output Class Name = virginica\n",
      "\n",
      "Level  3\n",
      "Count of  versicolor  =  14\n",
      "Current Entropy is = 0.0\n",
      "Reached leaf Node\n",
      "Output Class Name = versicolor\n",
      "\n",
      "Level  3\n",
      "Count of  versicolor  =  23\n",
      "Count of  virginica  =  7\n",
      "Current Entropy is = 0.783776947484701\n",
      "Splitting on feature  sw_labeled with gain ratio : 0.07092036405148876\n",
      "Output Class Name = versicolor\n",
      "\n",
      "Level   4\n",
      "Count of  versicolor  =  3\n",
      "Count of  virginica  =  1\n",
      "Current Entropy is =  0.8112781244591328\n",
      "No more features left\n",
      "Reached leaf Node\n",
      "Output Class Name = virginica\n",
      "\n",
      "Level   4\n",
      "Count of  versicolor  =  14\n",
      "Count of  virginica  =  6\n",
      "Current Entropy is =  0.8812908992306927\n",
      "No more features left\n",
      "Reached leaf Node\n",
      "Output Class Name = virginica\n",
      "\n",
      "Level  4\n",
      "Count of  versicolor  =  6\n",
      "Current Entropy is = 0.0\n",
      "Reached leaf Node\n",
      "Output Class Name = versicolor\n",
      "\n",
      "Level  3\n",
      "Count of  versicolor  =  2\n",
      "Current Entropy is = 0.0\n",
      "Reached leaf Node\n",
      "Output Class Name = versicolor\n",
      "\n",
      "Level  2\n",
      "Count of  virginica  =  8\n",
      "Current Entropy is = 0.0\n",
      "Reached leaf Node\n",
      "Output Class Name = virginica\n",
      "\n",
      "Level  1\n",
      "Count of  virginica  =  34\n",
      "Current Entropy is = 0.0\n",
      "Reached leaf Node\n",
      "Output Class Name = virginica\n",
      "\n"
     ]
    }
   ],
   "source": [
    "y = pd.DataFrame(iris.target,columns=['feature_type'])\n",
    "y[y['feature_type'] == 0] = 'setosa'\n",
    "y[y['feature_type'] == 1] = 'versicolor'\n",
    "y[y['feature_type'] == 2] = 'virginica'\n",
    "unused_features = set(df.columns)\n",
    "D_T(df, y, unused_features, 0)"
   ]
  },
  {
   "cell_type": "code",
   "execution_count": null,
   "id": "9a887024",
   "metadata": {},
   "outputs": [],
   "source": []
  },
  {
   "cell_type": "markdown",
   "id": "517f9e49",
   "metadata": {},
   "source": [
    "## Decision Tree Using Sklearn"
   ]
  },
  {
   "cell_type": "code",
   "execution_count": 14,
   "id": "c78a5e49",
   "metadata": {},
   "outputs": [
    {
     "data": {
      "text/html": [
       "<div>\n",
       "<style scoped>\n",
       "    .dataframe tbody tr th:only-of-type {\n",
       "        vertical-align: middle;\n",
       "    }\n",
       "\n",
       "    .dataframe tbody tr th {\n",
       "        vertical-align: top;\n",
       "    }\n",
       "\n",
       "    .dataframe thead th {\n",
       "        text-align: right;\n",
       "    }\n",
       "</style>\n",
       "<table border=\"1\" class=\"dataframe\">\n",
       "  <thead>\n",
       "    <tr style=\"text-align: right;\">\n",
       "      <th></th>\n",
       "      <th>sl_labeled</th>\n",
       "      <th>sw_labeled</th>\n",
       "      <th>pl_labeled</th>\n",
       "      <th>pw_labeled</th>\n",
       "    </tr>\n",
       "  </thead>\n",
       "  <tbody>\n",
       "    <tr>\n",
       "      <th>0</th>\n",
       "      <td>2</td>\n",
       "      <td>3</td>\n",
       "      <td>1</td>\n",
       "      <td>1</td>\n",
       "    </tr>\n",
       "    <tr>\n",
       "      <th>1</th>\n",
       "      <td>1</td>\n",
       "      <td>2</td>\n",
       "      <td>1</td>\n",
       "      <td>1</td>\n",
       "    </tr>\n",
       "    <tr>\n",
       "      <th>2</th>\n",
       "      <td>1</td>\n",
       "      <td>3</td>\n",
       "      <td>1</td>\n",
       "      <td>1</td>\n",
       "    </tr>\n",
       "    <tr>\n",
       "      <th>3</th>\n",
       "      <td>1</td>\n",
       "      <td>3</td>\n",
       "      <td>1</td>\n",
       "      <td>1</td>\n",
       "    </tr>\n",
       "    <tr>\n",
       "      <th>4</th>\n",
       "      <td>1</td>\n",
       "      <td>3</td>\n",
       "      <td>1</td>\n",
       "      <td>1</td>\n",
       "    </tr>\n",
       "  </tbody>\n",
       "</table>\n",
       "</div>"
      ],
      "text/plain": [
       "   sl_labeled  sw_labeled  pl_labeled  pw_labeled\n",
       "0           2           3           1           1\n",
       "1           1           2           1           1\n",
       "2           1           3           1           1\n",
       "3           1           3           1           1\n",
       "4           1           3           1           1"
      ]
     },
     "execution_count": 14,
     "metadata": {},
     "output_type": "execute_result"
    }
   ],
   "source": [
    "#use above data\n",
    "df.head()"
   ]
  },
  {
   "cell_type": "code",
   "execution_count": 15,
   "id": "fe143667",
   "metadata": {},
   "outputs": [
    {
     "data": {
      "text/html": [
       "<div>\n",
       "<style scoped>\n",
       "    .dataframe tbody tr th:only-of-type {\n",
       "        vertical-align: middle;\n",
       "    }\n",
       "\n",
       "    .dataframe tbody tr th {\n",
       "        vertical-align: top;\n",
       "    }\n",
       "\n",
       "    .dataframe thead th {\n",
       "        text-align: right;\n",
       "    }\n",
       "</style>\n",
       "<table border=\"1\" class=\"dataframe\">\n",
       "  <thead>\n",
       "    <tr style=\"text-align: right;\">\n",
       "      <th></th>\n",
       "      <th>feature_type</th>\n",
       "    </tr>\n",
       "  </thead>\n",
       "  <tbody>\n",
       "    <tr>\n",
       "      <th>0</th>\n",
       "      <td>setosa</td>\n",
       "    </tr>\n",
       "    <tr>\n",
       "      <th>1</th>\n",
       "      <td>setosa</td>\n",
       "    </tr>\n",
       "    <tr>\n",
       "      <th>2</th>\n",
       "      <td>setosa</td>\n",
       "    </tr>\n",
       "    <tr>\n",
       "      <th>3</th>\n",
       "      <td>setosa</td>\n",
       "    </tr>\n",
       "    <tr>\n",
       "      <th>4</th>\n",
       "      <td>setosa</td>\n",
       "    </tr>\n",
       "  </tbody>\n",
       "</table>\n",
       "</div>"
      ],
      "text/plain": [
       "  feature_type\n",
       "0       setosa\n",
       "1       setosa\n",
       "2       setosa\n",
       "3       setosa\n",
       "4       setosa"
      ]
     },
     "execution_count": 15,
     "metadata": {},
     "output_type": "execute_result"
    }
   ],
   "source": [
    "y.head()"
   ]
  },
  {
   "cell_type": "code",
   "execution_count": 16,
   "id": "af4344a8",
   "metadata": {},
   "outputs": [
    {
     "data": {
      "text/html": [
       "<div>\n",
       "<style scoped>\n",
       "    .dataframe tbody tr th:only-of-type {\n",
       "        vertical-align: middle;\n",
       "    }\n",
       "\n",
       "    .dataframe tbody tr th {\n",
       "        vertical-align: top;\n",
       "    }\n",
       "\n",
       "    .dataframe thead th {\n",
       "        text-align: right;\n",
       "    }\n",
       "</style>\n",
       "<table border=\"1\" class=\"dataframe\">\n",
       "  <thead>\n",
       "    <tr style=\"text-align: right;\">\n",
       "      <th></th>\n",
       "      <th>sl_labeled</th>\n",
       "      <th>sw_labeled</th>\n",
       "      <th>pl_labeled</th>\n",
       "      <th>pw_labeled</th>\n",
       "      <th>feature_type</th>\n",
       "    </tr>\n",
       "  </thead>\n",
       "  <tbody>\n",
       "    <tr>\n",
       "      <th>0</th>\n",
       "      <td>2</td>\n",
       "      <td>3</td>\n",
       "      <td>1</td>\n",
       "      <td>1</td>\n",
       "      <td>setosa</td>\n",
       "    </tr>\n",
       "    <tr>\n",
       "      <th>1</th>\n",
       "      <td>1</td>\n",
       "      <td>2</td>\n",
       "      <td>1</td>\n",
       "      <td>1</td>\n",
       "      <td>setosa</td>\n",
       "    </tr>\n",
       "    <tr>\n",
       "      <th>2</th>\n",
       "      <td>1</td>\n",
       "      <td>3</td>\n",
       "      <td>1</td>\n",
       "      <td>1</td>\n",
       "      <td>setosa</td>\n",
       "    </tr>\n",
       "    <tr>\n",
       "      <th>3</th>\n",
       "      <td>1</td>\n",
       "      <td>3</td>\n",
       "      <td>1</td>\n",
       "      <td>1</td>\n",
       "      <td>setosa</td>\n",
       "    </tr>\n",
       "    <tr>\n",
       "      <th>4</th>\n",
       "      <td>1</td>\n",
       "      <td>3</td>\n",
       "      <td>1</td>\n",
       "      <td>1</td>\n",
       "      <td>setosa</td>\n",
       "    </tr>\n",
       "  </tbody>\n",
       "</table>\n",
       "</div>"
      ],
      "text/plain": [
       "   sl_labeled  sw_labeled  pl_labeled  pw_labeled feature_type\n",
       "0           2           3           1           1       setosa\n",
       "1           1           2           1           1       setosa\n",
       "2           1           3           1           1       setosa\n",
       "3           1           3           1           1       setosa\n",
       "4           1           3           1           1       setosa"
      ]
     },
     "execution_count": 16,
     "metadata": {},
     "output_type": "execute_result"
    }
   ],
   "source": [
    "df=pd.concat([df,y],axis=1)\n",
    "df.head()"
   ]
  },
  {
   "cell_type": "code",
   "execution_count": 17,
   "id": "a82eaced",
   "metadata": {},
   "outputs": [],
   "source": [
    "x_train, x_test, y_train, y_test = train_test_split(df.iloc[:,:-1],df.iloc[:,-1], random_state = 1)\n",
    "clf = DecisionTreeClassifier()"
   ]
  },
  {
   "cell_type": "code",
   "execution_count": 18,
   "id": "5b02da8d",
   "metadata": {},
   "outputs": [
    {
     "data": {
      "text/plain": [
       "DecisionTreeClassifier()"
      ]
     },
     "execution_count": 18,
     "metadata": {},
     "output_type": "execute_result"
    }
   ],
   "source": [
    "clf.fit(x_train,y_train)"
   ]
  },
  {
   "cell_type": "code",
   "execution_count": 19,
   "id": "be5f3d83",
   "metadata": {},
   "outputs": [
    {
     "data": {
      "text/plain": [
       "array(['setosa', 'versicolor', 'versicolor', 'setosa', 'virginica',\n",
       "       'versicolor', 'virginica', 'setosa', 'setosa', 'virginica',\n",
       "       'versicolor', 'setosa', 'virginica', 'versicolor', 'versicolor',\n",
       "       'setosa', 'versicolor', 'versicolor', 'setosa', 'setosa',\n",
       "       'versicolor', 'versicolor', 'versicolor', 'setosa', 'virginica',\n",
       "       'versicolor', 'setosa', 'setosa', 'versicolor', 'virginica',\n",
       "       'versicolor', 'virginica', 'versicolor', 'virginica', 'virginica',\n",
       "       'setosa', 'versicolor', 'setosa'], dtype=object)"
      ]
     },
     "execution_count": 19,
     "metadata": {},
     "output_type": "execute_result"
    }
   ],
   "source": [
    "y_pred=clf.predict(x_test)\n",
    "y_pred"
   ]
  },
  {
   "cell_type": "code",
   "execution_count": 20,
   "id": "969d97a0",
   "metadata": {},
   "outputs": [
    {
     "data": {
      "text/plain": [
       "1.0"
      ]
     },
     "execution_count": 20,
     "metadata": {},
     "output_type": "execute_result"
    }
   ],
   "source": [
    "clf.score(x_test,y_test)"
   ]
  },
  {
   "cell_type": "code",
   "execution_count": 21,
   "id": "0f7b373b",
   "metadata": {},
   "outputs": [
    {
     "data": {
      "text/plain": [
       "array([[13,  0,  0],\n",
       "       [ 0, 16,  0],\n",
       "       [ 0,  0,  9]], dtype=int64)"
      ]
     },
     "execution_count": 21,
     "metadata": {},
     "output_type": "execute_result"
    }
   ],
   "source": [
    "confusion_matrix(y_test,y_pred)"
   ]
  },
  {
   "cell_type": "markdown",
   "id": "0a287f3b",
   "metadata": {},
   "source": [
    "## **Visualising the data using Graphviz and Pydotplus**"
   ]
  },
  {
   "cell_type": "code",
   "execution_count": 22,
   "id": "88a1c05c",
   "metadata": {},
   "outputs": [],
   "source": [
    "dot_data = export_graphviz(clf, out_file=None,\n",
    "                          feature_names=iris.feature_names,\n",
    "                          class_names=iris.target_names, filled=True, rounded=True)"
   ]
  },
  {
   "cell_type": "code",
   "execution_count": 23,
   "id": "9ab6e9fb",
   "metadata": {},
   "outputs": [],
   "source": [
    "graph = pydotplus.graph_from_dot_data(dot_data)"
   ]
  },
  {
   "cell_type": "code",
   "execution_count": 24,
   "id": "68e3a60d",
   "metadata": {},
   "outputs": [
    {
     "data": {
      "image/png": "[encoded data removed]",
      "text/plain": [
       "<IPython.core.display.Image object>"
      ]
     },
     "execution_count": 24,
     "metadata": {},
     "output_type": "execute_result"
    }
   ],
   "source": [
    "Image(graph.create_png())"
   ]
  },
  {
   "cell_type": "code",
   "execution_count": 25,
   "id": "74a079d4",
   "metadata": {},
   "outputs": [
    {
     "data": {
      "text/plain": [
       "True"
      ]
     },
     "execution_count": 25,
     "metadata": {},
     "output_type": "execute_result"
    }
   ],
   "source": [
    "#create a pdf for the graph\n",
    "graph.write_pdf('iris.pdf')"
   ]
  },
  {
   "cell_type": "code",
   "execution_count": null,
   "id": "0fe87161",
   "metadata": {},
   "outputs": [],
   "source": []
  }
 ],
 "metadata": {
  "kernelspec": {
   "display_name": "Python 3",
   "language": "python",
   "name": "python3"
  },
  "language_info": {
   "codemirror_mode": {
    "name": "ipython",
    "version": 3
   },
   "file_extension": ".py",
   "mimetype": "text/x-python",
   "name": "python",
   "nbconvert_exporter": "python",
   "pygments_lexer": "ipython3",
   "version": "3.8.8"
  }
 },
 "nbformat": 4,
 "nbformat_minor": 5
}
